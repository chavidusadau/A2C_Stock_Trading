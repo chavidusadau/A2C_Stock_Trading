{
  "nbformat": 4,
  "nbformat_minor": 0,
  "metadata": {
    "colab": {
      "provenance": []
    },
    "kernelspec": {
      "name": "python3",
      "display_name": "Python 3"
    },
    "language_info": {
      "name": "python"
    },
    "accelerator": "GPU"
  },
  "cells": [
    {
      "cell_type": "markdown",
      "source": [
        "## INSTALLING DEPENDENCIES"
      ],
      "metadata": {
        "id": "hpmHib7nVyyJ"
      }
    },
    {
      "cell_type": "code",
      "execution_count": null,
      "metadata": {
        "id": "ScI-BqTPQNpF"
      },
      "outputs": [],
      "source": [
        "!pip install tensorflow-gpu==1.15.0 tensorflow==1.15.0 stable-baselines gym-anytrading gym"
      ]
    },
    {
      "cell_type": "code",
      "source": [
        "!pip install yfinance"
      ],
      "metadata": {
        "colab": {
          "base_uri": "https://localhost:8080/"
        },
        "id": "s-Bs6Bo6Roog",
        "outputId": "5f20e574-d376-4676-acd3-6666741b00bc"
      },
      "execution_count": null,
      "outputs": [
        {
          "output_type": "stream",
          "name": "stdout",
          "text": [
            "Collecting yfinance\n",
            "  Downloading yfinance-0.1.67-py2.py3-none-any.whl (25 kB)\n",
            "Requirement already satisfied: multitasking>=0.0.7 in /usr/local/lib/python3.7/dist-packages (from yfinance) (0.0.10)\n",
            "Requirement already satisfied: pandas>=0.24 in /usr/local/lib/python3.7/dist-packages (from yfinance) (1.1.5)\n",
            "Requirement already satisfied: requests>=2.20 in /usr/local/lib/python3.7/dist-packages (from yfinance) (2.23.0)\n",
            "Collecting lxml>=4.5.1\n",
            "  Downloading lxml-4.6.4-cp37-cp37m-manylinux_2_17_x86_64.manylinux2014_x86_64.manylinux_2_24_x86_64.whl (6.3 MB)\n",
            "\u001b[K     |████████████████████████████████| 6.3 MB 13.1 MB/s \n",
            "\u001b[?25hRequirement already satisfied: numpy>=1.15 in /usr/local/lib/python3.7/dist-packages (from yfinance) (1.19.5)\n",
            "Requirement already satisfied: pytz>=2017.2 in /usr/local/lib/python3.7/dist-packages (from pandas>=0.24->yfinance) (2018.9)\n",
            "Requirement already satisfied: python-dateutil>=2.7.3 in /usr/local/lib/python3.7/dist-packages (from pandas>=0.24->yfinance) (2.8.2)\n",
            "Requirement already satisfied: six>=1.5 in /usr/local/lib/python3.7/dist-packages (from python-dateutil>=2.7.3->pandas>=0.24->yfinance) (1.15.0)\n",
            "Requirement already satisfied: idna<3,>=2.5 in /usr/local/lib/python3.7/dist-packages (from requests>=2.20->yfinance) (2.10)\n",
            "Requirement already satisfied: chardet<4,>=3.0.2 in /usr/local/lib/python3.7/dist-packages (from requests>=2.20->yfinance) (3.0.4)\n",
            "Requirement already satisfied: certifi>=2017.4.17 in /usr/local/lib/python3.7/dist-packages (from requests>=2.20->yfinance) (2021.10.8)\n",
            "Requirement already satisfied: urllib3!=1.25.0,!=1.25.1,<1.26,>=1.21.1 in /usr/local/lib/python3.7/dist-packages (from requests>=2.20->yfinance) (1.24.3)\n",
            "Installing collected packages: lxml, yfinance\n",
            "  Attempting uninstall: lxml\n",
            "    Found existing installation: lxml 4.2.6\n",
            "    Uninstalling lxml-4.2.6:\n",
            "      Successfully uninstalled lxml-4.2.6\n",
            "Successfully installed lxml-4.6.4 yfinance-0.1.67\n"
          ]
        }
      ]
    },
    {
      "cell_type": "markdown",
      "source": [
        "## IMPORT LIBRARIES"
      ],
      "metadata": {
        "id": "x_DDCcCcWC2E"
      }
    },
    {
      "cell_type": "code",
      "source": [
        "import gym\n",
        "import gym_anytrading\n",
        "from stable_baselines.common.vec_env import DummyVecEnv\n",
        "from stable_baselines import A2C\n",
        "import numpy as np\n",
        "import pandas as pd\n",
        "from matplotlib import pyplot as plt\n",
        "import yfinance as yf"
      ],
      "metadata": {
        "id": "M0ueZ5PnQXEH"
      },
      "execution_count": null,
      "outputs": []
    },
    {
      "cell_type": "markdown",
      "source": [
        "## IMPORT DATASET"
      ],
      "metadata": {
        "id": "q39UhgYBWGrh"
      }
    },
    {
      "cell_type": "code",
      "source": [
        "df = yf.download('AAPL', start = '2019-01-01', end = '2020-01-01')\n",
        "df.head()"
      ],
      "metadata": {
        "id": "7GZO0lcEQ_mq"
      },
      "execution_count": null,
      "outputs": []
    },
    {
      "cell_type": "markdown",
      "source": [
        "# **1. USING ONLY OHLC DATA**"
      ],
      "metadata": {
        "id": "oqo01wuWXFLJ"
      }
    },
    {
      "cell_type": "markdown",
      "source": [
        "### 1.1. CREATE & RUN THE ENVIRONMENT"
      ],
      "metadata": {
        "id": "noP2NtZxWN8d"
      }
    },
    {
      "cell_type": "code",
      "source": [
        "env = gym.make('stocks-v0', df=df, frame_bound=(5,100), window_size=5)"
      ],
      "metadata": {
        "id": "J09OYc1KR2AS"
      },
      "execution_count": null,
      "outputs": []
    },
    {
      "cell_type": "code",
      "source": [
        "state = env.reset()\n",
        "while True:\n",
        "    action = env.action_space.sample()\n",
        "    n_state, reward, done, info = env.step(action)\n",
        "    if done:\n",
        "        print(\"info\", info)\n",
        "        break\n",
        "\n",
        "plt.figure(figsize=(15,6))\n",
        "plt.cla()\n",
        "env.render_all()\n",
        "plt.show()"
      ],
      "metadata": {
        "id": "ng4hDQnASEL9"
      },
      "execution_count": null,
      "outputs": []
    },
    {
      "cell_type": "markdown",
      "source": [
        "### 1.2. TRAINING"
      ],
      "metadata": {
        "id": "LHXAdxlaWRjG"
      }
    },
    {
      "cell_type": "code",
      "source": [
        "env_maker = lambda: gym.make()"
      ],
      "metadata": {
        "id": "4sq0keetSO9D"
      },
      "execution_count": null,
      "outputs": []
    },
    {
      "cell_type": "code",
      "source": [
        "model = A2C('MlpLstmPolicy', env, verbose=1)\n",
        "model.learn(total_timesteps=10000)"
      ],
      "metadata": {
        "id": "qRd4eo_qUz_J"
      },
      "execution_count": null,
      "outputs": []
    },
    {
      "cell_type": "markdown",
      "source": [
        "### 1.3.TESTING"
      ],
      "metadata": {
        "id": "35tBhcUkWV9N"
      }
    },
    {
      "cell_type": "code",
      "source": [
        "env = gym.make('stocks-v0', df=df, frame_bound=(90,110), window_size=5)\n",
        "obs = env.reset()\n",
        "while True:\n",
        "    obs = obs[np.newaxis, ...]\n",
        "    action, _states = model.predict(obs)\n",
        "    obs, rewards, done, info = env.step(action)\n",
        "    if done:\n",
        "        print(\"info\", info)\n",
        "        break"
      ],
      "metadata": {
        "colab": {
          "base_uri": "https://localhost:8080/"
        },
        "id": "rFMbXddqSZ0b",
        "outputId": "b1079a9c-a8ee-480b-eb35-fd5f8cbd966c"
      },
      "execution_count": null,
      "outputs": [
        {
          "output_type": "stream",
          "name": "stdout",
          "text": [
            "info {'total_reward': -1.5574989318847656, 'total_profit': 0.9099781166839769, 'position': 0}\n"
          ]
        }
      ]
    },
    {
      "cell_type": "code",
      "source": [
        "plt.figure(figsize=(15,6))\n",
        "plt.cla()\n",
        "env.render_all()\n",
        "plt.show()"
      ],
      "metadata": {
        "colab": {
          "base_uri": "https://localhost:8080/",
          "height": 417
        },
        "id": "v4eDIz46TDqj",
        "outputId": "32f51b7d-2b14-4ab3-a388-9eb21782d2fc"
      },
      "execution_count": null,
      "outputs": [
        {
          "output_type": "display_data",
          "data": {
            "image/png": "[encoded data removed]",
            "text/plain": [
              "<Figure size 1080x432 with 1 Axes>"
            ]
          },
          "metadata": {
            "needs_background": "light"
          }
        }
      ]
    },
    {
      "cell_type": "markdown",
      "source": [
        "# **2. USING INDICATORS**"
      ],
      "metadata": {
        "id": "0WFUHDBLWzLJ"
      }
    },
    {
      "cell_type": "markdown",
      "source": [
        "###2.1. IMPORT LIBRARIES"
      ],
      "metadata": {
        "id": "neAI4nFFXYRf"
      }
    },
    {
      "cell_type": "code",
      "source": [
        "!pip install finta"
      ],
      "metadata": {
        "colab": {
          "base_uri": "https://localhost:8080/"
        },
        "id": "jiV7VZOsW1T_",
        "outputId": "07121f56-56bf-4b72-cd3e-65f370f1ceac"
      },
      "execution_count": null,
      "outputs": [
        {
          "output_type": "stream",
          "name": "stdout",
          "text": [
            "Collecting finta\n",
            "  Downloading finta-1.3-py3-none-any.whl (29 kB)\n",
            "Requirement already satisfied: numpy in /usr/local/lib/python3.7/dist-packages (from finta) (1.19.5)\n",
            "Requirement already satisfied: pandas in /usr/local/lib/python3.7/dist-packages (from finta) (1.1.5)\n",
            "Requirement already satisfied: pytz>=2017.2 in /usr/local/lib/python3.7/dist-packages (from pandas->finta) (2018.9)\n",
            "Requirement already satisfied: python-dateutil>=2.7.3 in /usr/local/lib/python3.7/dist-packages (from pandas->finta) (2.8.2)\n",
            "Requirement already satisfied: six>=1.5 in /usr/local/lib/python3.7/dist-packages (from python-dateutil>=2.7.3->pandas->finta) (1.15.0)\n",
            "Installing collected packages: finta\n",
            "Successfully installed finta-1.3\n"
          ]
        }
      ]
    },
    {
      "cell_type": "code",
      "source": [],
      "metadata": {
        "id": "ABZYxgBIXf-d"
      },
      "execution_count": null,
      "outputs": []
    },
    {
      "cell_type": "markdown",
      "source": [
        "### 2.2. CREATE INDICATOR COLUMNS"
      ],
      "metadata": {
        "id": "wGfdQIlvXhCD"
      }
    },
    {
      "cell_type": "code",
      "source": [
        "from gym_anytrading.envs import StocksEnv\n",
        "from finta import TA"
      ],
      "metadata": {
        "id": "TX296GTnXeYa"
      },
      "execution_count": null,
      "outputs": []
    },
    {
      "cell_type": "code",
      "source": [
        "df1 = yf.download('AAPL', start = '2019-01-01', end = '2020-01-01')\n",
        "df1['SMA'] = TA.SMA(df, 12)\n",
        "df1['RSI'] = TA.RSI(df)\n",
        "df1['OBV'] = TA.OBV(df)\n",
        "df1.fillna(0, inplace=True)"
      ],
      "metadata": {
        "colab": {
          "base_uri": "https://localhost:8080/"
        },
        "id": "EOCW0YHwXjxL",
        "outputId": "75ee29cd-5edc-451d-c594-776b24101646"
      },
      "execution_count": null,
      "outputs": [
        {
          "output_type": "stream",
          "name": "stdout",
          "text": [
            "\r[*********************100%***********************]  1 of 1 completed\n"
          ]
        }
      ]
    },
    {
      "cell_type": "code",
      "source": [
        "df1.head()"
      ],
      "metadata": {
        "colab": {
          "base_uri": "https://localhost:8080/",
          "height": 235
        },
        "id": "yEoAGqDIXtkU",
        "outputId": "28365bf8-388d-4eaf-f4cb-a59cf3b1aaf7"
      },
      "execution_count": null,
      "outputs": [
        {
          "output_type": "execute_result",
          "data": {
            "text/html": [
              "<div>\n",
              "<style scoped>\n",
              "    .dataframe tbody tr th:only-of-type {\n",
              "        vertical-align: middle;\n",
              "    }\n",
              "\n",
              "    .dataframe tbody tr th {\n",
              "        vertical-align: top;\n",
              "    }\n",
              "\n",
              "    .dataframe thead th {\n",
              "        text-align: right;\n",
              "    }\n",
              "</style>\n",
              "<table border=\"1\" class=\"dataframe\">\n",
              "  <thead>\n",
              "    <tr style=\"text-align: right;\">\n",
              "      <th></th>\n",
              "      <th>Open</th>\n",
              "      <th>High</th>\n",
              "      <th>Low</th>\n",
              "      <th>Close</th>\n",
              "      <th>Adj Close</th>\n",
              "      <th>Volume</th>\n",
              "      <th>SMA</th>\n",
              "      <th>RSI</th>\n",
              "      <th>OBV</th>\n",
              "    </tr>\n",
              "    <tr>\n",
              "      <th>Date</th>\n",
              "      <th></th>\n",
              "      <th></th>\n",
              "      <th></th>\n",
              "      <th></th>\n",
              "      <th></th>\n",
              "      <th></th>\n",
              "      <th></th>\n",
              "      <th></th>\n",
              "      <th></th>\n",
              "    </tr>\n",
              "  </thead>\n",
              "  <tbody>\n",
              "    <tr>\n",
              "      <th>2019-01-02</th>\n",
              "      <td>38.722500</td>\n",
              "      <td>39.712502</td>\n",
              "      <td>38.557499</td>\n",
              "      <td>39.480000</td>\n",
              "      <td>38.326290</td>\n",
              "      <td>148158800</td>\n",
              "      <td>0.0</td>\n",
              "      <td>0.000000</td>\n",
              "      <td>0.0</td>\n",
              "    </tr>\n",
              "    <tr>\n",
              "      <th>2019-01-03</th>\n",
              "      <td>35.994999</td>\n",
              "      <td>36.430000</td>\n",
              "      <td>35.500000</td>\n",
              "      <td>35.547501</td>\n",
              "      <td>34.508705</td>\n",
              "      <td>365248800</td>\n",
              "      <td>0.0</td>\n",
              "      <td>0.000000</td>\n",
              "      <td>-365248800.0</td>\n",
              "    </tr>\n",
              "    <tr>\n",
              "      <th>2019-01-04</th>\n",
              "      <td>36.132500</td>\n",
              "      <td>37.137501</td>\n",
              "      <td>35.950001</td>\n",
              "      <td>37.064999</td>\n",
              "      <td>35.981857</td>\n",
              "      <td>234428400</td>\n",
              "      <td>0.0</td>\n",
              "      <td>29.357079</td>\n",
              "      <td>-130820400.0</td>\n",
              "    </tr>\n",
              "    <tr>\n",
              "      <th>2019-01-07</th>\n",
              "      <td>37.174999</td>\n",
              "      <td>37.207500</td>\n",
              "      <td>36.474998</td>\n",
              "      <td>36.982498</td>\n",
              "      <td>35.901772</td>\n",
              "      <td>219111200</td>\n",
              "      <td>0.0</td>\n",
              "      <td>28.861016</td>\n",
              "      <td>-349931600.0</td>\n",
              "    </tr>\n",
              "    <tr>\n",
              "      <th>2019-01-08</th>\n",
              "      <td>37.389999</td>\n",
              "      <td>37.955002</td>\n",
              "      <td>37.130001</td>\n",
              "      <td>37.687500</td>\n",
              "      <td>36.586174</td>\n",
              "      <td>164101200</td>\n",
              "      <td>0.0</td>\n",
              "      <td>38.434700</td>\n",
              "      <td>-185830400.0</td>\n",
              "    </tr>\n",
              "  </tbody>\n",
              "</table>\n",
              "</div>"
            ],
            "text/plain": [
              "                 Open       High        Low  ...  SMA        RSI          OBV\n",
              "Date                                         ...                             \n",
              "2019-01-02  38.722500  39.712502  38.557499  ...  0.0   0.000000          0.0\n",
              "2019-01-03  35.994999  36.430000  35.500000  ...  0.0   0.000000 -365248800.0\n",
              "2019-01-04  36.132500  37.137501  35.950001  ...  0.0  29.357079 -130820400.0\n",
              "2019-01-07  37.174999  37.207500  36.474998  ...  0.0  28.861016 -349931600.0\n",
              "2019-01-08  37.389999  37.955002  37.130001  ...  0.0  38.434700 -185830400.0\n",
              "\n",
              "[5 rows x 9 columns]"
            ]
          },
          "metadata": {},
          "execution_count": 41
        }
      ]
    },
    {
      "cell_type": "code",
      "source": [],
      "metadata": {
        "id": "XBXRK5f5Xu01"
      },
      "execution_count": null,
      "outputs": []
    },
    {
      "cell_type": "markdown",
      "source": [
        "### 2.2. CREATE ENVIRONMENT"
      ],
      "metadata": {
        "id": "3jMt6qqYYpBo"
      }
    },
    {
      "cell_type": "code",
      "source": [
        "def add_signals(env):\n",
        "    start = env.frame_bound[0] - env.window_size\n",
        "    end = env.frame_bound[1]\n",
        "    prices = env.df.loc[:, 'Low'].to_numpy()[start:end]\n",
        "    signal_features = env.df.loc[:, ['Low', 'Volume','SMA', 'RSI', 'OBV']].to_numpy()[start:end]\n",
        "    return prices, signal_features"
      ],
      "metadata": {
        "id": "0_AKoTkLYrsO"
      },
      "execution_count": null,
      "outputs": []
    },
    {
      "cell_type": "code",
      "source": [
        "class MyCustomEnv(StocksEnv):\n",
        "    _process_data = add_signals\n",
        "\n",
        "env2 = MyCustomEnv(df=df1, window_size=12, frame_bound=(12,50))"
      ],
      "metadata": {
        "id": "u-r9X_i1YtNR"
      },
      "execution_count": null,
      "outputs": []
    },
    {
      "cell_type": "markdown",
      "source": [
        "### 2.2. TRAINING"
      ],
      "metadata": {
        "id": "jc7oSOfXY9-V"
      }
    },
    {
      "cell_type": "code",
      "source": [
        "env_maker = lambda: env2\n",
        "env = DummyVecEnv([env_maker])"
      ],
      "metadata": {
        "id": "QH7IBMjHYu4o"
      },
      "execution_count": null,
      "outputs": []
    },
    {
      "cell_type": "code",
      "source": [
        "model = A2C('MlpLstmPolicy', env, verbose=1)\n",
        "model.learn(total_timesteps=1000000)"
      ],
      "metadata": {
        "id": "QHk67N5gZAnj"
      },
      "execution_count": null,
      "outputs": []
    },
    {
      "cell_type": "markdown",
      "source": [
        "### 2.3. TESTING"
      ],
      "metadata": {
        "id": "rBKzBN4UZc5d"
      }
    },
    {
      "cell_type": "code",
      "source": [
        "env = MyCustomEnv(df=df1, window_size=12, frame_bound=(80,250))\n",
        "obs = env.reset()\n",
        "while True:\n",
        "    obs = obs[np.newaxis, ...]\n",
        "    action, _states = model.predict(obs)\n",
        "    obs, rewards, done, info = env.step(action)\n",
        "    if done:\n",
        "        print(\"info\", info)\n",
        "        break"
      ],
      "metadata": {
        "colab": {
          "base_uri": "https://localhost:8080/"
        },
        "id": "3Rl6RkGxZeTt",
        "outputId": "c2bd4b9d-24c6-4374-db84-64267a9e6dfe"
      },
      "execution_count": null,
      "outputs": [
        {
          "output_type": "stream",
          "name": "stdout",
          "text": [
            "info {'total_reward': 19.324989318847656, 'total_profit': 1.139735823259345, 'position': 0}\n"
          ]
        }
      ]
    },
    {
      "cell_type": "code",
      "source": [
        "plt.figure(figsize=(15,6))\n",
        "plt.cla()\n",
        "env.render_all()\n",
        "plt.show()"
      ],
      "metadata": {
        "colab": {
          "base_uri": "https://localhost:8080/",
          "height": 417
        },
        "id": "z81uAMheZgT_",
        "outputId": "2f642e81-cb1c-487c-f1ef-51d843b8d586"
      },
      "execution_count": null,
      "outputs": [
        {
          "output_type": "display_data",
          "data": {
            "image/png": "[encoded data removed]",
            "text/plain": [
              "<Figure size 1080x432 with 1 Axes>"
            ]
          },
          "metadata": {
            "needs_background": "light"
          }
        }
      ]
    }
  ]
}